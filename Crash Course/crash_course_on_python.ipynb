{
 "cells": [
  {
   "cell_type": "markdown",
   "metadata": {},
   "source": [
    "# Before getting started"
   ]
  },
  {
   "cell_type": "markdown",
   "metadata": {},
   "source": [
    "### Jupyter Notebook Cheat Sheet\n",
    "\n",
    "https://www.edureka.co/blog/wp-content/uploads/2018/10/Jupyter_Notebook_CheatSheet_Edureka.pdf\n",
    "\n",
    "Some handy shortcuts\n",
    "- Enter: Enter edit mode\n",
    "- Ctrl + Enter: Run cells\n",
    "- Shift + Enter: Run cells and select below \n",
    "- Alt + Enter: Run cells and insert below\n",
    "- Escape + b: Insert Cell below\n",
    "- Escape + a: Insert Cell above\n",
    "- Escape + d + d: Delete selected cell\n",
    "- Escape + i + i: Interrupt the kernal"
   ]
  },
  {
   "cell_type": "markdown",
   "metadata": {},
   "source": [
    "### Jupyter Notebook extensions for increased productivity"
   ]
  },
  {
   "cell_type": "raw",
   "metadata": {
    "scrolled": true
   },
   "source": [
    "!pip install jupyter_contrib_nbextensions"
   ]
  },
  {
   "cell_type": "code",
   "execution_count": null,
   "metadata": {},
   "outputs": [],
   "source": [
    "!jupyter contrib nbextension install --user"
   ]
  },
  {
   "cell_type": "markdown",
   "metadata": {},
   "source": [
    "### Magic commands - special commands in Jupyter Notebook"
   ]
  },
  {
   "cell_type": "code",
   "execution_count": null,
   "metadata": {
    "scrolled": true
   },
   "outputs": [],
   "source": [
    "%lsmagic #show all magic commands"
   ]
  },
  {
   "cell_type": "code",
   "execution_count": null,
   "metadata": {},
   "outputs": [],
   "source": [
    "%pwd #print the current working directory\n",
    "%ls #show contents in the current directory\n",
    "%who #use this to list all variables\n",
    "%reset #Delete all variables and names defined in the current namespace\n",
    "%time #Times a single statement"
   ]
  },
  {
   "cell_type": "markdown",
   "metadata": {},
   "source": [
    "### Jupyter Notebook themes"
   ]
  },
  {
   "cell_type": "code",
   "execution_count": null,
   "metadata": {
    "scrolled": true
   },
   "outputs": [],
   "source": [
    "!pip install --upgrade jupyterthemes"
   ]
  },
  {
   "cell_type": "code",
   "execution_count": null,
   "metadata": {
    "scrolled": false
   },
   "outputs": [],
   "source": [
    "!jt -l"
   ]
  },
  {
   "cell_type": "code",
   "execution_count": null,
   "metadata": {
    "scrolled": false
   },
   "outputs": [],
   "source": [
    "#https://github.com/dunovank/jupyter-themes\n",
    "!jt -t monokai -f anka -fs 13 -nf ptsans -nfs 11 -ofs 13 -tfs 13 -N -kl -cursw 5 -cursc r -cellw 100% -T"
   ]
  },
  {
   "cell_type": "code",
   "execution_count": null,
   "metadata": {},
   "outputs": [],
   "source": [
    "!jt -r"
   ]
  },
  {
   "cell_type": "markdown",
   "metadata": {},
   "source": [
    "### Method documentation - shift-tab"
   ]
  },
  {
   "cell_type": "code",
   "execution_count": null,
   "metadata": {},
   "outputs": [],
   "source": [
    "import pandas as pd"
   ]
  },
  {
   "cell_type": "code",
   "execution_count": null,
   "metadata": {},
   "outputs": [],
   "source": [
    "df = pd.read_csv(\"./bikes.csv\")\n",
    "df"
   ]
  },
  {
   "cell_type": "code",
   "execution_count": null,
   "metadata": {
    "scrolled": false
   },
   "outputs": [],
   "source": [
    "df = pd.read_csv(\"./bikes.csv\", sep=';')\n",
    "df"
   ]
  },
  {
   "cell_type": "markdown",
   "metadata": {},
   "source": [
    "# IDS-Instruction 2: Crash Course on Python"
   ]
  },
  {
   "cell_type": "markdown",
   "metadata": {
    "colab_type": "text",
    "id": "EDWeAOstPVHl"
   },
   "source": [
    "## 0. Start with Python\n",
    "Python lets you write very concise code.\n",
    "\n",
    "Java \"Hello World!\"\n",
    "\n",
    "```\n",
    "Public Class HelloWorld\n",
    "{\n",
    "  public static void main(String[] args)\n",
    "  { \n",
    "   System.out.println(\"HelloWorld!\");\n",
    "  }\n",
    "\n",
    "}\n",
    "\n",
    "```"
   ]
  },
  {
   "cell_type": "code",
   "execution_count": null,
   "metadata": {
    "colab": {
     "base_uri": "https://localhost:8080/",
     "height": 34
    },
    "colab_type": "code",
    "id": "kIAFMPljPVHn",
    "outputId": "38fc8c39-0b83-4137-abd7-2594cd879a6f",
    "scrolled": false
   },
   "outputs": [],
   "source": [
    "# Python Hello World !\n",
    "print(\"Hello World!\")"
   ]
  },
  {
   "cell_type": "markdown",
   "metadata": {
    "colab_type": "text",
    "id": "c6zYIKxxPVHr"
   },
   "source": [
    "## 1. Python objects, basic types, and variables\n",
    "\n",
    "Everything in Python is an **object**.\n",
    "Every object in Python has a type.\n",
    "Some of the basic types include:\n",
    "\n",
    "    int (integer; a whole number with no decimal place)\n",
    "        10\n",
    "        -3\n",
    "    float (float; a number that has a decimal place)\n",
    "        7.41\n",
    "        -0.006\n",
    "    str (string; a sequence of characters enclosed in quotes)\n",
    "        'this is a string using single quotes'\n",
    "        \"this is a string using double quotes\"\n",
    "    bool (boolean; a binary value that is either true or false)\n",
    "        True\n",
    "        False\n",
    "    NoneType (a special type representing the absence of a value)\n",
    "        None\n",
    "\n",
    "In Python, a **variable** is a name you specify in your code that maps to:\n",
    "\n",
    "a. A particular object\n",
    "\n",
    "b. Object instance\n",
    "\n",
    "C. or value\n",
    "\n",
    "\n",
    "<font color='red'>\n",
    "Attention! Names for variables can only contain:</font>\n",
    "\n",
    "a. Letters\n",
    "\n",
    "b. Underscores (_)\n",
    "\n",
    "C. or numbers (no spaces, dashes, or other characters)\n",
    "\n",
    "<font color='green'>Variable names must start with a letter or underscore.</font>\n",
    "\n",
    "Python data types are either **mutable** or **immutable**; this influences the way in which variables are declared, passed as parameters, and modified. "
   ]
  },
  {
   "cell_type": "code",
   "execution_count": null,
   "metadata": {
    "colab": {
     "base_uri": "https://localhost:8080/",
     "height": 34
    },
    "colab_type": "code",
    "id": "Zwdh1JybPVHs",
    "outputId": "17f25b93-7ac2-43dc-fbce-0434824949a4",
    "scrolled": false
   },
   "outputs": [],
   "source": [
    "# Variable declaration\n",
    "name = \"Bob\"\n",
    "Age = 54\n",
    "has_W2 = True\n",
    "print(name, Age, has_W2)"
   ]
  },
  {
   "cell_type": "code",
   "execution_count": null,
   "metadata": {
    "colab": {
     "base_uri": "https://localhost:8080/",
     "height": 129
    },
    "colab_type": "code",
    "id": "tDIVtAQ-PVHw",
    "outputId": "02f1e20a-e566-4d64-8733-73accd84a13e",
    "scrolled": false
   },
   "outputs": [],
   "source": [
    "# Variables start with alphas or underscore\n",
    "_filed = False"
   ]
  },
  {
   "cell_type": "code",
   "execution_count": null,
   "metadata": {},
   "outputs": [],
   "source": [
    "_filed"
   ]
  },
  {
   "cell_type": "code",
   "execution_count": null,
   "metadata": {
    "colab": {
     "base_uri": "https://localhost:8080/",
     "height": 34
    },
    "colab_type": "code",
    "id": "K0CI3NRrPVH0",
    "outputId": "8308cdac-0e96-4e00-d384-d35418569a6f",
    "scrolled": false
   },
   "outputs": [],
   "source": [
    "# Variable (case sensitiveness)\n",
    "age = 1\n",
    "Age = 2\n",
    "aGe = 3\n",
    "AGE = 4\n",
    "a_g_e = 5\n",
    "_age = 6\n",
    "age_ = 7\n",
    "_AGE_ = 8\n",
    "print(age, Age, aGe, AGE, a_g_e, _age, age_, _AGE_)"
   ]
  },
  {
   "cell_type": "code",
   "execution_count": null,
   "metadata": {},
   "outputs": [],
   "source": [
    "age = 80"
   ]
  },
  {
   "cell_type": "code",
   "execution_count": null,
   "metadata": {},
   "outputs": [],
   "source": [
    "age"
   ]
  },
  {
   "cell_type": "code",
   "execution_count": null,
   "metadata": {
    "colab": {
     "base_uri": "https://localhost:8080/",
     "height": 129
    },
    "colab_type": "code",
    "id": "uAnRe1LRPVH4",
    "outputId": "5959282b-da15-43bc-e1ef-22f65ef39f54",
    "scrolled": false
   },
   "outputs": [],
   "source": [
    "# Reserved Word\n",
    "for = 4\n",
    "print(for)"
   ]
  },
  {
   "cell_type": "code",
   "execution_count": null,
   "metadata": {},
   "outputs": [],
   "source": [
    "x = 1\n",
    "y = 1\n",
    "z = 1"
   ]
  },
  {
   "cell_type": "code",
   "execution_count": null,
   "metadata": {
    "colab": {},
    "colab_type": "code",
    "id": "-pYCF2TjPVH8",
    "scrolled": false
   },
   "outputs": [],
   "source": [
    "# Multiple Assignment\n",
    "x = y = z = 1 \n",
    "x,y,z = 1,2,\"abcd\""
   ]
  },
  {
   "cell_type": "code",
   "execution_count": null,
   "metadata": {
    "scrolled": false
   },
   "outputs": [],
   "source": [
    "False==0"
   ]
  },
  {
   "cell_type": "code",
   "execution_count": null,
   "metadata": {
    "colab": {
     "base_uri": "https://localhost:8080/",
     "height": 34
    },
    "colab_type": "code",
    "id": "UR8noz4zPVID",
    "outputId": "b3a83571-6d5a-461a-d8ea-cc0570280a03",
    "scrolled": false
   },
   "outputs": [],
   "source": [
    "# Operator Example : Is this expression True?\n",
    "True != 3 + 1"
   ]
  },
  {
   "cell_type": "code",
   "execution_count": null,
   "metadata": {
    "colab": {
     "base_uri": "https://localhost:8080/",
     "height": 34
    },
    "colab_type": "code",
    "id": "ggR-Z1coPVIH",
    "outputId": "7475c45b-0f3e-47db-bb0c-45d9fec4ddec",
    "scrolled": false
   },
   "outputs": [],
   "source": [
    "# Operator Example: \n",
    "simple_string1 = 'an example'\n",
    "simple_string2 = \"oranges \"\n",
    "simple_string3 = simple_string1 + ' of using the + operator: ' + simple_string2\n",
    "print(simple_string3)"
   ]
  },
  {
   "cell_type": "markdown",
   "metadata": {
    "colab_type": "text",
    "id": "oQku7ZP4PVIL"
   },
   "source": [
    "## 2. Iteration and Condition "
   ]
  },
  {
   "cell_type": "code",
   "execution_count": null,
   "metadata": {
    "colab": {
     "base_uri": "https://localhost:8080/",
     "height": 102
    },
    "colab_type": "code",
    "id": "ohcszlzVPVIN",
    "outputId": "5d33cbb1-9c0c-4dd4-8111-f55cf8e0c1cf",
    "scrolled": false
   },
   "outputs": [],
   "source": [
    "# Prints out the numbers 0,1,2,3,4\n",
    "for x in range(0,5,1):\n",
    "    print(x)"
   ]
  },
  {
   "cell_type": "code",
   "execution_count": null,
   "metadata": {
    "colab": {
     "base_uri": "https://localhost:8080/",
     "height": 68
    },
    "colab_type": "code",
    "id": "aSjsSZD-PVIQ",
    "outputId": "6b6cde8d-bd61-41c2-bd61-63d3389a6397",
    "scrolled": false
   },
   "outputs": [],
   "source": [
    "# Prints out 3,4,5\n",
    "for x in range(3,6):\n",
    "    print(x)"
   ]
  },
  {
   "cell_type": "code",
   "execution_count": null,
   "metadata": {
    "colab": {
     "base_uri": "https://localhost:8080/",
     "height": 68
    },
    "colab_type": "code",
    "id": "LoXjltvTPVIT",
    "outputId": "bdec4e39-e73c-4b0a-de1d-031131add2a1",
    "scrolled": false
   },
   "outputs": [],
   "source": [
    "# Prints out 3,5,7\n",
    "for x in range(3, 8, 2):\n",
    "    print(x)"
   ]
  },
  {
   "cell_type": "code",
   "execution_count": null,
   "metadata": {
    "scrolled": false
   },
   "outputs": [],
   "source": [
    "count = 0\n",
    "while True:\n",
    "    print(count)\n",
    "    count += 1\n",
    "    if count >= 5:\n",
    "        break"
   ]
  },
  {
   "cell_type": "code",
   "execution_count": null,
   "metadata": {
    "colab": {
     "base_uri": "https://localhost:8080/",
     "height": 187
    },
    "colab_type": "code",
    "id": "OaPnMeYTPVIW",
    "outputId": "2a14e7c4-5d88-48fc-d9f4-669727c0f9b8",
    "scrolled": true
   },
   "outputs": [],
   "source": [
    "# Condition and Iteration Example: \n",
    "for x in range(10):\n",
    "    if x % 2 == 0:\n",
    "        continue\n",
    "    print(x)"
   ]
  },
  {
   "cell_type": "code",
   "execution_count": null,
   "metadata": {
    "colab": {
     "base_uri": "https://localhost:8080/",
     "height": 51
    },
    "colab_type": "code",
    "id": "MIg4u4XWPVIZ",
    "outputId": "5a0ff281-4c91-450d-c0c2-71368155e2c3",
    "scrolled": false
   },
   "outputs": [],
   "source": [
    "# Learn If and and For with an Example : \n",
    "# Python program to check if the input number is prime or not\n",
    "\n",
    "num = 23\n",
    "\n",
    "3,5,7,...\n",
    "\n",
    "# take input from the user\n",
    "#num = int(input(\"Enter a number: \"))\n",
    "\n",
    "isPrime = True\n",
    "\n",
    "# if input number is less than\n",
    "# or equal to 1, it is not prime\n",
    "if num <= 1:\n",
    "    isPrime = False\n",
    "elif num > 1:\n",
    "   # check for factors\n",
    "   for i in range(2,num):\n",
    "        if (num % i) == 0:\n",
    "            isPrime = False\n",
    "            print(i,\"times\",num//i,\"is\",num)\n",
    "            break\n",
    "            \n",
    "if isPrime:\n",
    "    print(num,\"is a prime number\")\n",
    "else:\n",
    "    print(num,\"is not a prime number\")"
   ]
  },
  {
   "cell_type": "markdown",
   "metadata": {
    "colab_type": "text",
    "id": "H4ZiNOiqPVIf"
   },
   "source": [
    "## 3. Python Basic Data Structure\n",
    "    \n",
    "    Note: mutable objects can be modified after creation and immutable objects cannot.\n",
    "\n",
    "**Goal** : To group other objects together\n",
    "\n",
    "The basic container types include:\n",
    "\n",
    "    str (string: immutable; indexed by integers)\n",
    "        Items are stored in the order they were added\n",
    "        \n",
    "    list (list: mutable; indexed by integers)\n",
    "        Items are stored in the order they were added\n",
    "        [3, 5, 6, 3, 'dog', 'cat', False]\n",
    "        \n",
    "    tuple (tuple: immutable; indexed by integers)\n",
    "        Items are stored in the order they were added\n",
    "        (3, 5, 6, 3, 'dog', 'cat', False)\n",
    "        \n",
    "    set (set: mutable; not indexed at all)\n",
    "        Items are NOT stored in the order they were added, but in a item-defined ordering\n",
    "        Can only contain immutable objects\n",
    "        does NOT contain duplicate objects\n",
    "        {3, 5, 6, 3, 'dog', 'cat', False}\n",
    "    \n",
    "    dict (dictionary: mutable; key-value pairs are indexed by immutable keys)\n",
    "        Items are NOT stored in the order they were added, but in a item-defined ordering\n",
    "        {'name': 'Jane', 'age': 23, 'fav_foods': ['pizza', 'fruit', 'fish']}\n",
    "\n",
    "Defining *lists*, *tuples*, or *sets* : \n",
    "\n",
    "    seperate items with(,) \n",
    "\n",
    "Defining *dicts* : \n",
    "\n",
    "    seperate keys and values with(:)\n",
    "    \n",
    "    seperate pairs with(,)\n",
    "\n",
    "**Strings, lists, and tuples are all sequence types that can use the +, *, +=, and *= operators.**"
   ]
  },
  {
   "cell_type": "code",
   "execution_count": null,
   "metadata": {
    "scrolled": false
   },
   "outputs": [],
   "source": [
    "str10 = \"HELLO\"\n",
    "str10"
   ]
  },
  {
   "cell_type": "code",
   "execution_count": null,
   "metadata": {},
   "outputs": [],
   "source": [
    "# Hallo, hier ist Deutschland!\n",
    "str10[1] = 'A'"
   ]
  },
  {
   "cell_type": "code",
   "execution_count": null,
   "metadata": {},
   "outputs": [],
   "source": [
    "str10 = \"J.\" + str10[3:]\n",
    "str10"
   ]
  },
  {
   "cell_type": "code",
   "execution_count": null,
   "metadata": {
    "colab": {},
    "colab_type": "code",
    "id": "EWbn5JU0PVIf",
    "scrolled": false
   },
   "outputs": [],
   "source": [
    "# Assign some containers to different variables\n",
    "list1 = [3, 5, 6, 3, 'dog', 'cat', False]\n",
    "tuple1 = (3, 5, 6, 3, 'dog', 'cat', False)\n",
    "set1 = {3, 5, 6, 3, 'dog', 'cat', False}\n",
    "dict1 = {'name': 'Conor McGregor', \n",
    "         'age': 34, \n",
    "         'born': 'Dublin',\n",
    "         'division': ['Lightweight', 'Featherweight', 'Welterweight'],\n",
    "         'MMA_records': {'win':22, 'losses':6},\n",
    "         'fav_foods': ['Pizza kebab', 'KiWi', 'fish']}"
   ]
  },
  {
   "cell_type": "code",
   "execution_count": null,
   "metadata": {
    "colab": {
     "base_uri": "https://localhost:8080/",
     "height": 34
    },
    "colab_type": "code",
    "id": "yn-Ylqp2PVIi",
    "outputId": "36af637d-ab25-4512-ac43-3a5f87c55e0f",
    "scrolled": false
   },
   "outputs": [],
   "source": [
    "# Items in the list object are stored in the order they were added\n",
    "list1"
   ]
  },
  {
   "cell_type": "code",
   "execution_count": null,
   "metadata": {
    "colab": {
     "base_uri": "https://localhost:8080/",
     "height": 34
    },
    "colab_type": "code",
    "id": "4VeDZclNPVIm",
    "outputId": "e3e812a4-2bff-4ead-ddf8-7aeb16683228",
    "scrolled": false
   },
   "outputs": [],
   "source": [
    "# Items in the tuple object are stored in the order they were added\n",
    "tuple1"
   ]
  },
  {
   "cell_type": "code",
   "execution_count": null,
   "metadata": {
    "colab": {
     "base_uri": "https://localhost:8080/",
     "height": 34
    },
    "colab_type": "code",
    "id": "05BHVjdIPVIp",
    "outputId": "3f90d912-993c-4635-902c-0784ecfc3ae9",
    "scrolled": false
   },
   "outputs": [],
   "source": [
    "# Items in the set object are not stored in the order they were added\n",
    "# Also, notice that the value 3 only appears once in this set object\n",
    "set1"
   ]
  },
  {
   "cell_type": "code",
   "execution_count": null,
   "metadata": {
    "colab": {
     "base_uri": "https://localhost:8080/",
     "height": 34
    },
    "colab_type": "code",
    "id": "La4Z2YQsPVIs",
    "outputId": "5349a263-700b-41ba-ab80-24e8a7e2b4cd",
    "scrolled": false
   },
   "outputs": [],
   "source": [
    "# Items in the dict object are not stored in the order they were added\n",
    "dict1"
   ]
  },
  {
   "cell_type": "code",
   "execution_count": null,
   "metadata": {
    "colab": {},
    "colab_type": "code",
    "id": "NgYbbPQzPVIv",
    "scrolled": false
   },
   "outputs": [],
   "source": [
    "# Add and re-assign\n",
    "# list1 = [3, 5, 6, 3, 'dog', 'cat', False]\n",
    "# list1 = list1 + [5, 'grapes']\n",
    "list1 += [5, 'grapes']\n",
    "list1"
   ]
  },
  {
   "cell_type": "code",
   "execution_count": null,
   "metadata": {
    "colab": {},
    "colab_type": "code",
    "id": "7VMxjXf8PVIy",
    "scrolled": false
   },
   "outputs": [],
   "source": [
    "# Add and re-assign\n",
    "tuple1 += (5, 'grapes')\n",
    "tuple1[:-3]"
   ]
  },
  {
   "cell_type": "code",
   "execution_count": null,
   "metadata": {
    "colab": {
     "base_uri": "https://localhost:8080/",
     "height": 34
    },
    "colab_type": "code",
    "id": "mfxSuW-PPVI0",
    "outputId": "1682d715-155f-4eea-eaa1-5204e125e7e8",
    "scrolled": false
   },
   "outputs": [],
   "source": [
    "# Multiply\n",
    "[1, 2, 3, 4] * 2"
   ]
  },
  {
   "cell_type": "code",
   "execution_count": null,
   "metadata": {
    "colab": {
     "base_uri": "https://localhost:8080/",
     "height": 34
    },
    "colab_type": "code",
    "id": "W-KqnQ-IPVI2",
    "outputId": "808fd275-055e-4ad9-e97d-ae01124bb58f",
    "scrolled": false
   },
   "outputs": [],
   "source": [
    "# Multiply\n",
    "(1, 2, 3, 4) * 3"
   ]
  },
  {
   "cell_type": "markdown",
   "metadata": {
    "colab_type": "text",
    "id": "jVS6Vjf8PVI5"
   },
   "source": [
    "### Accessing data in containers\n",
    "Subscript notation (square brackets) to access data at an index for: \n",
    "-  strings\n",
    "-  lists\n",
    "-  tuples\n",
    "-  dicts\n",
    "\n",
    "\n",
    "\n",
    "    Note: sets are not indexed, so we cannot use subscript notation to access data elements.\n",
    "\n"
   ]
  },
  {
   "cell_type": "code",
   "execution_count": null,
   "metadata": {},
   "outputs": [],
   "source": [
    "# Access the first item in a sequence\n",
    "# list1 = [3, 5, 6, 3, 'dog', 'cat', False, 5, 'grapes']\n",
    "list1[0]"
   ]
  },
  {
   "cell_type": "code",
   "execution_count": null,
   "metadata": {},
   "outputs": [],
   "source": [
    "# Access the last item in a sequence\n",
    "# tuple1 = (3, 5, 6, 3, 'dog', 'cat', False, 5, 'grapes')\n",
    "tuple1[-1]"
   ]
  },
  {
   "cell_type": "code",
   "execution_count": null,
   "metadata": {},
   "outputs": [],
   "source": [
    "# Access a range of items in a sequence\n",
    "# simple_string1 = 'an example'\n",
    "simple_string1[3:8]"
   ]
  },
  {
   "cell_type": "code",
   "execution_count": null,
   "metadata": {},
   "outputs": [],
   "source": [
    "# Access a range of items in a sequence\n",
    "# tuple1 = (3, 5, 6, 3, 'dog', 'cat', False, 5, 'grapes')\n",
    "tuple1[:-3]"
   ]
  },
  {
   "cell_type": "code",
   "execution_count": null,
   "metadata": {},
   "outputs": [],
   "source": [
    "# Access a range of items in a sequence\n",
    "# list1 = [3, 5, 6, 3, 'dog', 'cat', False, 5, 'grapes']\n",
    "list1[4:]"
   ]
  },
  {
   "cell_type": "code",
   "execution_count": null,
   "metadata": {},
   "outputs": [],
   "source": [
    "dict1"
   ]
  },
  {
   "cell_type": "code",
   "execution_count": null,
   "metadata": {},
   "outputs": [],
   "source": [
    "# Access an item in a dictionary\n",
    "dict1['name']"
   ]
  },
  {
   "cell_type": "code",
   "execution_count": null,
   "metadata": {},
   "outputs": [],
   "source": [
    "# Access an element of a sequence in a dictionary\n",
    "dict1['fav_foods'][2]"
   ]
  },
  {
   "cell_type": "markdown",
   "metadata": {
    "colab_type": "text",
    "id": "wtWjTWcxTace"
   },
   "source": [
    "### List comprehension\n",
    "List comprehension is a quick way to iterate through the elements of a list.\n",
    "\n",
    "Normally, you can iterate through elements of a list with a loop. The list comprehension allows you to manipulate lists in a very concise way to obtain new lists, and it is usually more efficient than looping. The syntax is:\n",
    "\n",
    "`[func(element) for element in list]`\n",
    "\n",
    "the list comprehension can also have conditions on the selection of elements:\n",
    "\n",
    "`[func(element) for element in list if {condition on element}]`"
   ]
  },
  {
   "cell_type": "code",
   "execution_count": null,
   "metadata": {
    "colab": {
     "base_uri": "https://localhost:8080/",
     "height": 34
    },
    "colab_type": "code",
    "id": "qyZB2ew3U6m6",
    "outputId": "fb6a85b2-60f6-4445-f2ea-f8b172752d18",
    "scrolled": false
   },
   "outputs": [],
   "source": [
    "list2 = [1,2,3,4,5,6]\n",
    "\n",
    "# Basic loop\n",
    "listdouble = []\n",
    "for i in range(0, len(list2)):\n",
    "    listdouble.append(list2[i]*2)\n",
    "print(listdouble)"
   ]
  },
  {
   "cell_type": "code",
   "execution_count": null,
   "metadata": {
    "colab": {
     "base_uri": "https://localhost:8080/",
     "height": 34
    },
    "colab_type": "code",
    "id": "CSinPSXZV829",
    "outputId": "78d454ce-84f9-4518-f959-c25dd05d4876",
    "scrolled": true
   },
   "outputs": [],
   "source": [
    "# Slightly better way for looping\n",
    "listdouble = []\n",
    "for item in list2:\n",
    "    listdouble.append(item*2)\n",
    "print(listdouble)"
   ]
  },
  {
   "cell_type": "code",
   "execution_count": null,
   "metadata": {
    "colab": {
     "base_uri": "https://localhost:8080/",
     "height": 34
    },
    "colab_type": "code",
    "id": "aZn8ZobeWI9s",
    "outputId": "ac6ce925-ffd3-4a21-b65a-f26b477de011",
    "scrolled": false
   },
   "outputs": [],
   "source": [
    "# The best way: list comprehension\n",
    "listdouble = [item*2 for item in list2]\n",
    "print(listdouble)"
   ]
  },
  {
   "cell_type": "code",
   "execution_count": null,
   "metadata": {
    "colab": {
     "base_uri": "https://localhost:8080/",
     "height": 34
    },
    "colab_type": "code",
    "id": "LCbOdT7QWice",
    "outputId": "d5893fff-06c5-4559-ef27-605f8b0ae651",
    "scrolled": false
   },
   "outputs": [],
   "source": [
    "# Conditions in list comprehension: let's take just the odd numbers\n",
    "doubleodds = [item*2 for item in list2 if item%2==1]\n",
    "print(doubleodds)"
   ]
  },
  {
   "cell_type": "markdown",
   "metadata": {
    "colab_type": "text",
    "id": "YRWt9JhVPVI8"
   },
   "source": [
    "## 4. Python Functions\n",
    "\n",
    "### 4.1. build-in functions\n",
    "\n",
    "-  A function is a Python object that you can \"call\" to perform an action or compute and return another object\n",
    "\n",
    "-  Some functions allow you to pass arguments inside the parentheses \n",
    ">-  (separating multiple arguments with a comma).\n",
    "- Inside the function, these arguments are treated like variables.\n",
    "\n",
    "A small sample of python useful built-in functions: \n",
    "\n",
    "    type(obj) to determine the type of an object\n",
    "    \n",
    "    len(container) to determine how many items are in a container\n",
    "    \n",
    "    callable(obj) to determine if an object is callable\n",
    "    \n",
    "    sorted(container) to return a new list from a container, with the items sorted\n",
    "    \n",
    "    sum(container) to compute the sum of a container of numbers\n",
    "    \n",
    "    min(container) to determine the smallest item in a container\n",
    "    \n",
    "    max(container) to determine the largest item in a container\n",
    "    \n",
    "    abs(number) to determine the absolute value of a number\n",
    "    \n",
    "    repr(obj) to return a string representation of an object\n",
    "    \n",
    "    dict(keyword=arguments)"
   ]
  },
  {
   "cell_type": "code",
   "execution_count": null,
   "metadata": {
    "colab": {},
    "colab_type": "code",
    "id": "ApcDowSfPVI9",
    "scrolled": false
   },
   "outputs": [],
   "source": [
    "# Use the type() function to determine the type of an object\n",
    "type(simple_string1)"
   ]
  },
  {
   "cell_type": "code",
   "execution_count": null,
   "metadata": {},
   "outputs": [],
   "source": [
    "dict1"
   ]
  },
  {
   "cell_type": "code",
   "execution_count": null,
   "metadata": {
    "colab": {
     "base_uri": "https://localhost:8080/",
     "height": 34
    },
    "colab_type": "code",
    "id": "gv_eH14MPVJA",
    "outputId": "835bbc47-8b76-4ce0-ddee-f882723a3e54",
    "scrolled": false
   },
   "outputs": [],
   "source": [
    "# Use the len() function to determine how many items are in a container\n",
    "len(dict1)"
   ]
  },
  {
   "cell_type": "code",
   "execution_count": null,
   "metadata": {},
   "outputs": [],
   "source": [
    "dict(name='Conor McGregor',\n",
    "     age=34,\n",
    "     born='Dublin',\n",
    "     division=['Lightweight', 'Featherweight', 'Welterweight'],\n",
    "     MMA_records={'win': 22, 'losses': 6},\n",
    "     fav_foods=['Pizza kebab', 'KiWi', 'fish'])"
   ]
  },
  {
   "cell_type": "code",
   "execution_count": null,
   "metadata": {},
   "outputs": [],
   "source": [
    "simple_string2"
   ]
  },
  {
   "cell_type": "code",
   "execution_count": null,
   "metadata": {
    "colab": {},
    "colab_type": "code",
    "id": "Mhl080wfPVJC",
    "scrolled": false
   },
   "outputs": [],
   "source": [
    "# Use the len() function to determine how many items are in a container\n",
    "len(simple_string2)"
   ]
  },
  {
   "cell_type": "code",
   "execution_count": null,
   "metadata": {
    "colab": {},
    "colab_type": "code",
    "id": "xxrlGgZjPVJJ",
    "scrolled": false
   },
   "outputs": [],
   "source": [
    "# Use the sorted() function to return a new list from a container, with the items sorted\n",
    "# - notice that capitalized strings come first\n",
    "sorted(['dogs', 'cats', 'zebras', 'Chicago', 'California', 'ants', 'mice'])"
   ]
  },
  {
   "cell_type": "code",
   "execution_count": null,
   "metadata": {
    "colab": {},
    "colab_type": "code",
    "id": "ZV9CRC9XPVJM",
    "scrolled": true
   },
   "outputs": [],
   "source": [
    "# Use the repr() function to return a string representation of an object\n",
    "i1 = 123\n",
    "repr(i1)"
   ]
  },
  {
   "cell_type": "markdown",
   "metadata": {},
   "source": [
    "### 4.2 self-defined functions\n",
    "\n",
    "A function is a block of code that only runs when it is called.\n",
    "\n",
    "A function can return something as a result.\n",
    "\n",
    "To call a function, use the function name followed by parenthesis.\n",
    "\n",
    "\n",
    "```\n",
    "\n",
    "def functionname(parameters):\n",
    "   \"function_docstring\"\n",
    "   do something\n",
    "   \n",
    "   return result\n",
    "   \n",
    "```"
   ]
  },
  {
   "cell_type": "code",
   "execution_count": null,
   "metadata": {},
   "outputs": [],
   "source": [
    "def helloWorld(language='english'):\n",
    "    if language == 'english':\n",
    "        print('Hello World!')\n",
    "    elif language == 'german':\n",
    "        print(\"Hallo Welt!\")\n",
    "    elif language == 'dutch':\n",
    "        print(\"Hallo Wereld\")\n",
    "    elif language == 'korean':\n",
    "        print(\"안녕하세요 세계\")\n",
    "    else: \n",
    "        print('Hello World!')\n",
    "    \n",
    "helloWorld(language='korean')"
   ]
  },
  {
   "cell_type": "code",
   "execution_count": null,
   "metadata": {},
   "outputs": [],
   "source": [
    "# define a function that takes a number and returns True if it is a prime number, False otherwise\n",
    "def checkIsPrime(num):\n",
    "    \n",
    "    isPrime = True\n",
    "    # if input number is less than\n",
    "    # or equal to 1, it is not prime\n",
    "    if num <= 1:\n",
    "        isPrime = False\n",
    "    elif num > 1:\n",
    "       # check for factors\n",
    "       for i in range(2,num):\n",
    "            if (num % i) == 0:\n",
    "                isPrime = False\n",
    "                break\n",
    "\n",
    "    return isPrime"
   ]
  },
  {
   "cell_type": "code",
   "execution_count": null,
   "metadata": {},
   "outputs": [],
   "source": [
    "# define a function that takes a number (num) and returns a list of all prime numbers <= num\n",
    "# hint: use list comprehension and the function you just defined\n",
    "def getAllSmallerPrime(num):\n",
    "    \n",
    "    allSmallerPrime = [n for n in range(num+1) if checkIsPrime(n)]\n",
    "    return allSmallerPrime"
   ]
  },
  {
   "cell_type": "markdown",
   "metadata": {
    "colab_type": "text",
    "id": "vb0uqeeiPVJP"
   },
   "source": [
    "## 5. Object Oriented Programming\n",
    "### Python object attributes (methods and properties)\n",
    "\n",
    "Different types of objects in Python have different attributes\n",
    "\n",
    "To access an attribute of an object, use a dot (.)\n",
    "#### Method\n",
    "\n",
    "<font color= \"green\">\n",
    "    When an attribute of an object is a callable, that attribute is called a method</font>\n",
    "\n",
    "It is the same as a function, only this function is bound to a particular object.\n",
    "\n",
    "#### Property\n",
    "<font color = \"green\">When an attribute of an object is not a callable, that attribute is called a property</font>\n",
    "It is just a piece of data about the object, that is itself another object.\n",
    "\n",
    "The built-in *dir()* function can be used to return a list of an object's attributes.\n"
   ]
  },
  {
   "cell_type": "markdown",
   "metadata": {
    "colab_type": "text",
    "id": "sQkEHJ_QPVJQ"
   },
   "source": [
    "##### Sample methods for string objects\n",
    "\n",
    "    .capitalize() to return a capitalized version of the string (only first char uppercase)\n",
    "    \n",
    "    .upper() to return an uppercase version of the string (all chars uppercase)\n",
    "    \n",
    "    .lower() to return an lowercase version of the string (all chars lowercase)\n",
    "    \n",
    "    .count(substring) to return the number of occurences of the substring in the string\n",
    "    \n",
    "    .startswith(substring) to determine if the string starts with the substring\n",
    "    \n",
    "    .endswith(substring) to determine if the string ends with the substring\n",
    "    \n",
    "    .replace(old, new) to return a copy of the string with occurences of the \"old\" replaced by \"new\"\n"
   ]
  },
  {
   "cell_type": "code",
   "execution_count": null,
   "metadata": {
    "colab": {},
    "colab_type": "code",
    "id": "B_klywIhPVJR",
    "scrolled": false
   },
   "outputs": [],
   "source": [
    "# Assign a string to a variable\n",
    "\n",
    "test_string = 'tHis is a sTriNg'"
   ]
  },
  {
   "cell_type": "code",
   "execution_count": null,
   "metadata": {},
   "outputs": [],
   "source": [
    "test_string"
   ]
  },
  {
   "cell_type": "code",
   "execution_count": null,
   "metadata": {
    "colab": {},
    "colab_type": "code",
    "id": "9KMcXhaCPVJV",
    "scrolled": false
   },
   "outputs": [],
   "source": [
    "# Return a capitalized version of the string\n",
    "test_string.capitalize()"
   ]
  },
  {
   "cell_type": "code",
   "execution_count": null,
   "metadata": {
    "colab": {},
    "colab_type": "code",
    "id": "6Rzh6HLkPVJW",
    "scrolled": false
   },
   "outputs": [],
   "source": [
    "# Return an lowercase version of the string\n",
    "test_string.lower()"
   ]
  },
  {
   "cell_type": "code",
   "execution_count": null,
   "metadata": {},
   "outputs": [],
   "source": [
    "# Return an uppercase version of the string\n",
    "test_string.upper()"
   ]
  },
  {
   "cell_type": "code",
   "execution_count": null,
   "metadata": {},
   "outputs": [],
   "source": [
    "test_string"
   ]
  },
  {
   "cell_type": "code",
   "execution_count": null,
   "metadata": {},
   "outputs": [],
   "source": [
    "# determine if the string ends with the substring\n",
    "test_string.endswith('x')"
   ]
  },
  {
   "cell_type": "code",
   "execution_count": null,
   "metadata": {
    "colab": {},
    "colab_type": "code",
    "id": "-5Z5m6b3PVJZ",
    "scrolled": false
   },
   "outputs": [],
   "source": [
    "# Count number of occurences of a substring in the string\n",
    "test_string.count('I')"
   ]
  },
  {
   "cell_type": "code",
   "execution_count": null,
   "metadata": {
    "colab": {},
    "colab_type": "code",
    "id": "34i9DIbJPVJb",
    "scrolled": false
   },
   "outputs": [],
   "source": [
    "# Count number of occurences of a substring in the string after a certain position\n",
    "test_string.count('I', 7)"
   ]
  },
  {
   "cell_type": "code",
   "execution_count": null,
   "metadata": {},
   "outputs": [],
   "source": [
    "# what would be the output of the code below ? \n",
    "test_string.upper().replace('sTriNg', 'New String')"
   ]
  },
  {
   "cell_type": "code",
   "execution_count": null,
   "metadata": {},
   "outputs": [],
   "source": [
    "# True or False?\n",
    "callable(test_string.capitalize())"
   ]
  },
  {
   "cell_type": "markdown",
   "metadata": {
    "colab_type": "text",
    "id": "33Wm6JRGPVJd"
   },
   "source": [
    "##### Sample methods on list objects\n",
    "\n",
    "    .append(item) to add a single item to the list\n",
    "    \n",
    "    .extend([item1, item2, ...]) to add multiple items to the list\n",
    "    \n",
    "    .remove(item) to remove a single item from the list\n",
    "    \n",
    "    .pop() to remove and return the item at the end of the list\n",
    "    \n",
    "    .pop(index) to remove and return an item at an index\n",
    "\n"
   ]
  },
  {
   "cell_type": "code",
   "execution_count": null,
   "metadata": {
    "colab": {},
    "colab_type": "code",
    "id": "edD0R1EcPVJe",
    "scrolled": false
   },
   "outputs": [],
   "source": [
    "# Add a single item to the list\n",
    "color_list=[\"Red\", \"Blue\", \"Green\", \"Black\"]\n",
    "color_list.append(\"Yellow\")\n",
    "print(color_list)"
   ]
  },
  {
   "cell_type": "code",
   "execution_count": null,
   "metadata": {
    "colab": {},
    "colab_type": "code",
    "id": "yNvw9eC8PVJg",
    "scrolled": false
   },
   "outputs": [],
   "source": [
    "# Insert a single value at a specific position \n",
    "color_list.insert(2, \"White\")\n",
    "print(color_list)"
   ]
  },
  {
   "cell_type": "code",
   "execution_count": null,
   "metadata": {},
   "outputs": [],
   "source": [
    "color_list.pop()"
   ]
  },
  {
   "cell_type": "code",
   "execution_count": null,
   "metadata": {},
   "outputs": [],
   "source": [
    "color_list[-1]"
   ]
  },
  {
   "cell_type": "markdown",
   "metadata": {
    "colab_type": "text",
    "id": "AHU4-LwZPVJi"
   },
   "source": [
    "### Class\n",
    "\n",
    "A class is a blueprint for the object.\n",
    "The example for class of RWTHemployee can be :"
   ]
  },
  {
   "cell_type": "code",
   "execution_count": null,
   "metadata": {
    "scrolled": false
   },
   "outputs": [],
   "source": [
    "class RWTHemployee:\n",
    "    #class attribute\n",
    "    affiliation = \"RWTH\"\n",
    "    \n",
    "    def __init__(self,name,group,task,quote):\n",
    "        #instance attribute\n",
    "        self.name=name\n",
    "        self.group=group\n",
    "        self.task=task\n",
    "        self.quote=quote\n",
    "        \n",
    "    def introduce2():\n",
    "        print(\"I am a human\")\n",
    "        \n",
    "    def introduce(self):\n",
    "        print(\"I am working at {}.\".format(self.group))\n",
    "    \n",
    "    def work(self):\n",
    "        print(\"I love {}!\".format(self.task))\n",
    "        \n",
    "    def give_quote(self):\n",
    "        print('\"{}\", {}'.format(self.quote,self.name))"
   ]
  },
  {
   "cell_type": "code",
   "execution_count": null,
   "metadata": {
    "scrolled": false
   },
   "outputs": [],
   "source": [
    "wil = RWTHemployee(\"Prof. Wil van der Aalst\",\n",
    "                   \"PADS\", \n",
    "                   \"Process Mining\", \n",
    "                   \"This Petri net theory is so beautiful that makes you cry.\")"
   ]
  },
  {
   "cell_type": "code",
   "execution_count": null,
   "metadata": {},
   "outputs": [],
   "source": [
    "ramsay = RWTHemployee(\"Gordon Ramsay\",\n",
    "                      \"Mensa Vita\", \n",
    "                      \"Cooking\",\n",
    "                      \"This pizza is so disgusting, if you take it to Italy you’ll get arrested.\")"
   ]
  },
  {
   "cell_type": "code",
   "execution_count": null,
   "metadata": {},
   "outputs": [],
   "source": [
    "conor = RWTHemployee(\"Conor McGreger\",\n",
    "                      \"Informatikzentrum\", \n",
    "                      \"securing the Informatikzentrum\",\n",
    "                      \"When you sign to fight me, it’s a celebration. You ring back home, you ring your wife – baby, we’ve done it. We’re rich, baby. Conor McGregor made us rich.\")"
   ]
  },
  {
   "cell_type": "code",
   "execution_count": null,
   "metadata": {
    "scrolled": true
   },
   "outputs": [],
   "source": [
    "# access the class attributes\n",
    "print(\"Wil is affiliated with {}\".format(wil.__class__.affiliation))\n",
    "print(\"Ramsay is also affiliated with {}\".format(ramsay.__class__.affiliation))\n",
    "\n",
    "# access the instance attributes\n",
    "print(\"{} works at {}.\".format(wil.name, wil.group))\n",
    "print(\"{} works at {}.\".format(ramsay.name, ramsay.group))\n",
    "print(\"{} works at {}.\".format(conor.name, conor.group))"
   ]
  },
  {
   "cell_type": "code",
   "execution_count": null,
   "metadata": {},
   "outputs": [],
   "source": [
    "# call some methods\n",
    "conor.work()"
   ]
  },
  {
   "cell_type": "code",
   "execution_count": null,
   "metadata": {},
   "outputs": [],
   "source": [
    "# call some methods\n",
    "ramsay.give_quote()\n",
    "wil.give_quote()\n",
    "conor.give_quote()"
   ]
  },
  {
   "cell_type": "markdown",
   "metadata": {
    "colab_type": "text",
    "id": "KapdeeF5PVJm"
   },
   "source": [
    "## 6. Python Package\n",
    "\n",
    "### Math Package\n",
    "\n",
    "As a data scientist, some notions of geometry never hurt. Let's refresh some of the basics.\n",
    "\n",
    "For a fancy clustering algorithm, you want to find the circumference C\n",
    "and area A of a circle. When the radius of the circle is r, you can calculate C and A\n",
    "\n",
    "as:\n",
    "\n",
    "C = 2πr\n",
    "\n",
    "A = πr²\n",
    "\n",
    "To use the constant pi, you will need the math package. A variable r is already coded in the script. Fill in the code to calculate C and A and see how the print() functions create some nice printouts."
   ]
  },
  {
   "cell_type": "markdown",
   "metadata": {},
   "source": [
    "**Now Your Turn!**\n",
    "\n",
    "**Instruction**\n",
    "-  import the math package. Now you can access the constant pi with math.pi.\n",
    "-  Calculate the circumference of the circle and store it in C.\n",
    "-  Calculate the area of the circle and store it in A. math.pow(base, exp) could be useful."
   ]
  },
  {
   "cell_type": "code",
   "execution_count": null,
   "metadata": {
    "scrolled": false
   },
   "outputs": [],
   "source": [
    "import math"
   ]
  },
  {
   "cell_type": "code",
   "execution_count": null,
   "metadata": {
    "scrolled": false
   },
   "outputs": [],
   "source": [
    "# your answer \n",
    "\n",
    "\n",
    "# Definition of radius\n",
    "r = 0.43\n",
    "\n",
    "# Calculate C\n",
    "C = 2 * math.pi * r\n",
    "\n",
    "\n",
    "# Calculate A\n",
    "A = math.pi * (r**2)\n",
    "\n",
    "# Build printout\n",
    "print(\"Circumference: \" + str(C))\n",
    "print(\"Area: \" + str(A))"
   ]
  },
  {
   "cell_type": "markdown",
   "metadata": {},
   "source": [
    "### Numpy Package\n",
    "\n",
    "**Numpy is a powerful package to do data science.**\n",
    "\n",
    "A list *sportclass* has already been defined in the Python script, representing the height of some students in centimeters.\n",
    "\n",
    "Can you add some code here and there to create a Numpy array from it?"
   ]
  },
  {
   "cell_type": "markdown",
   "metadata": {},
   "source": [
    "**Now Your Turn!**\n",
    "\n",
    "**Instruction**\n",
    "-  Import the numpy package as np, so that you can refer to numpy with np.\n",
    "-  Use np.array() to create a Numpy array from sportclass. Name this array np_sportclass.\n",
    "-  Print out the type of np_sportclass to check that you got it right.\n"
   ]
  },
  {
   "cell_type": "code",
   "execution_count": null,
   "metadata": {},
   "outputs": [],
   "source": [
    "# Import the numpy package as np\n",
    "import numpy as np"
   ]
  },
  {
   "cell_type": "code",
   "execution_count": null,
   "metadata": {
    "scrolled": false
   },
   "outputs": [],
   "source": [
    "# Answer \n",
    "\n",
    "# Create list sportclass\n",
    "sportclass = [180, 215, 210, 210, 188, 176, 209, 200]\n",
    "\n",
    "# Create a Numpy array from sportclass: np_sportclass\n",
    "np_sportclass = np.array(sportclass)\n",
    "\n",
    "# Print out type of np_sportclass\n",
    "print(type(np_sportclass))\n",
    "print(np_sportclass)"
   ]
  },
  {
   "cell_type": "markdown",
   "metadata": {},
   "source": [
    "Let's try to create a 2D Numpy array from a small list of lists.\n",
    "\n",
    "In this exercise, sportclass  is a list of lists. \n",
    "\n",
    "The main list contains 4 elements. Each of these elements is a list containing the height and the weight of 4 students, in this order. sportcalass is already coded for you in the script."
   ]
  },
  {
   "cell_type": "markdown",
   "metadata": {},
   "source": [
    "**Now Your Turn!**\n",
    "\n",
    "**Instruction**\n",
    "\n",
    "-  Use np.array() to create a 2D Numpy array from sportclass. Name it np_sportclass.\n",
    "-  Print out the type of np_sportclass.\n",
    "-  Print out the shape attribute of np_sportclass. Use np_sportclass.shape.\n"
   ]
  },
  {
   "cell_type": "code",
   "execution_count": null,
   "metadata": {
    "scrolled": false
   },
   "outputs": [],
   "source": [
    "# Create sportclass, a list of lists\n",
    "sportclass = [[180, 78.4],\n",
    "            [215, 102.7],\n",
    "            [210, 98.5],\n",
    "            [188, 75.2]]\n",
    "\n",
    "# Import numpy\n",
    "import numpy as np\n",
    "\n",
    "# Create a 2D Numpy array from sportclass: np_sportclass\n",
    "np_sportclass = np.array(sportclass)\n",
    "\n",
    "# Print out the type of np_sportclass\n",
    "print(type(np_sportclass))\n",
    "\n",
    "\n",
    "# Print out the shape of np_sportclass\n",
    "print(np_sportclass.shape)\n"
   ]
  },
  {
   "cell_type": "markdown",
   "metadata": {},
   "source": [
    "# Pandas: acquiring and exploring a CSV file\n",
    "Pandas is a Python package that offers many functionalities to explore and edit tabular data. Panda's structure dataframe can support large dataset, and it is the standard library for fine data preprocessing.\n",
    "\n",
    "Let's acquire data from a CSV file using the read_csv function. By default, it assumes that the fields are comma-separated.\n",
    "\n",
    "### bike dataset\n",
    "\n",
    "This CSV contains some cyclist data from Montréal. It's a list of how many people were on 7 different bike paths in Montreal each day."
   ]
  },
  {
   "cell_type": "code",
   "execution_count": null,
   "metadata": {
    "scrolled": false
   },
   "outputs": [],
   "source": [
    "import pandas as pd\n",
    "dataf = pd.read_csv('bikes.csv')\n",
    "print(dataf[:5])"
   ]
  },
  {
   "cell_type": "markdown",
   "metadata": {},
   "source": [
    "The data is a mess. This is due to the fact that this dataset is non-standard: we are going to acquire it again specifying the separator ';' and the date format."
   ]
  },
  {
   "cell_type": "code",
   "execution_count": null,
   "metadata": {
    "scrolled": false
   },
   "outputs": [],
   "source": [
    "dataf = pd.read_csv('bikes.csv', sep=';', parse_dates=['Date'], dayfirst=True, index_col='Date')\n",
    "print(dataf[:5])"
   ]
  },
  {
   "cell_type": "markdown",
   "metadata": {},
   "source": [
    "From a dataframe you can select columns:"
   ]
  },
  {
   "cell_type": "code",
   "execution_count": null,
   "metadata": {
    "scrolled": false
   },
   "outputs": [],
   "source": [
    "print(dataf['Rachel1'])"
   ]
  },
  {
   "cell_type": "markdown",
   "metadata": {},
   "source": [
    "How can we plot the data? If we include pyplot from the matplotlib package, it is extremely easy. Just add .plot() at the end."
   ]
  },
  {
   "cell_type": "code",
   "execution_count": null,
   "metadata": {
    "scrolled": false
   },
   "outputs": [],
   "source": [
    "import matplotlib.pyplot as plt\n",
    "dataf['Rachel1'].plot()\n",
    "plt.show()"
   ]
  },
  {
   "cell_type": "markdown",
   "metadata": {},
   "source": [
    "The plot command has a host of options. For example, I can specify the dimensions of the resulting plot."
   ]
  },
  {
   "cell_type": "code",
   "execution_count": null,
   "metadata": {
    "scrolled": false
   },
   "outputs": [],
   "source": [
    "dataf['Rachel1'].plot(figsize=(15, 15))"
   ]
  },
  {
   "cell_type": "markdown",
   "metadata": {},
   "source": [
    "It also supports many different kinds of plots. Here is an example of a histogram, calculated on the first ten days of the year."
   ]
  },
  {
   "cell_type": "code",
   "execution_count": null,
   "metadata": {
    "scrolled": false
   },
   "outputs": [],
   "source": [
    "dataf['Rachel1'][:10].plot(kind='bar', figsize=(15, 15))"
   ]
  },
  {
   "cell_type": "markdown",
   "metadata": {},
   "source": [
    "### Forbes billionaires dataset\n",
    "Let's look at another csv file regarding the Forbes billionaires in 2022"
   ]
  },
  {
   "cell_type": "code",
   "execution_count": null,
   "metadata": {},
   "outputs": [],
   "source": [
    "df = pd.read_csv('2022_forbes_billionaires.csv')\n",
    "df.head()"
   ]
  },
  {
   "cell_type": "code",
   "execution_count": null,
   "metadata": {},
   "outputs": [],
   "source": [
    "df.drop(columns='Unnamed: 0', inplace=True)\n",
    "df.head()"
   ]
  },
  {
   "cell_type": "code",
   "execution_count": null,
   "metadata": {},
   "outputs": [],
   "source": [
    "# Plot a histrogram to see the disttibution of age\n",
    "df.hist(column='age',figsize=(10, 6))"
   ]
  },
  {
   "cell_type": "code",
   "execution_count": null,
   "metadata": {
    "scrolled": true
   },
   "outputs": [],
   "source": [
    "# Find the billionaires younger than 30\n",
    "df[df.age < 30]"
   ]
  },
  {
   "cell_type": "code",
   "execution_count": null,
   "metadata": {},
   "outputs": [],
   "source": [
    "# Find the billionaires in the technology industry\n",
    "df[df.industry == 'Technology ']"
   ]
  },
  {
   "cell_type": "code",
   "execution_count": null,
   "metadata": {
    "scrolled": true
   },
   "outputs": [],
   "source": [
    "# Find the top 20 countries with the most billionaires \n",
    "top20country=df.groupby('country').size().sort_values(ascending=False)[:20]\n",
    "top20country"
   ]
  },
  {
   "cell_type": "code",
   "execution_count": null,
   "metadata": {},
   "outputs": [],
   "source": [
    "# Plot a bar chart for country\n",
    "top20Country.plot(kind='bar',figsize=(10, 6))"
   ]
  },
  {
   "cell_type": "code",
   "execution_count": null,
   "metadata": {},
   "outputs": [],
   "source": [
    "# Plot a pie chart for the industry\n",
    "industryCount = df.groupby('industry').size().sort_values(ascending=False)\n",
    "industryCount"
   ]
  },
  {
   "cell_type": "code",
   "execution_count": null,
   "metadata": {},
   "outputs": [],
   "source": [
    "industryCount.plot(kind='pie',figsize=(10, 10))"
   ]
  },
  {
   "cell_type": "code",
   "execution_count": null,
   "metadata": {},
   "outputs": [],
   "source": []
  }
 ],
 "metadata": {
  "colab": {
   "collapsed_sections": [
    "sQkEHJ_QPVJQ"
   ],
   "name": "IDS-L2.ipynb",
   "provenance": [],
   "version": "0.3.2"
  },
  "kernelspec": {
   "display_name": "Python 3 (ipykernel)",
   "language": "python",
   "name": "python3"
  },
  "language_info": {
   "codemirror_mode": {
    "name": "ipython",
    "version": 3
   },
   "file_extension": ".py",
   "mimetype": "text/x-python",
   "name": "python",
   "nbconvert_exporter": "python",
   "pygments_lexer": "ipython3",
   "version": "3.9.12"
  },
  "toc": {
   "base_numbering": 1,
   "nav_menu": {},
   "number_sections": true,
   "sideBar": true,
   "skip_h1_title": false,
   "title_cell": "Table of Contents",
   "title_sidebar": "Contents",
   "toc_cell": false,
   "toc_position": {},
   "toc_section_display": true,
   "toc_window_display": false
  }
 },
 "nbformat": 4,
 "nbformat_minor": 1
}
