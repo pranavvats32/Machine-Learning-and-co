{
 "cells": [
  {
   "cell_type": "markdown",
   "metadata": {},
   "source": [
    "# Instruction 5 - Neural Networks\n",
    "(Niklas Adams)\n",
    "\n",
    "This instruction is split into two parts: First you will implement a small neural network yourself. Subsequently, we will show you how to use a library that already contains an implementation to conduct a classification."
   ]
  },
  {
   "cell_type": "markdown",
   "metadata": {},
   "source": [
    "## Simple Neural Network\n",
    "\n",
    "Let's create a simple neural network. Fill the gaps with the correct variables/values. Our Neural Network has one hidden layer and two inputs. "
   ]
  },
  {
   "cell_type": "code",
   "execution_count": 1,
   "metadata": {},
   "outputs": [
    {
     "name": "stdout",
     "output_type": "stream",
     "text": [
      "Initial weights:  [[0.1332666  0.29096549]\n",
      " [0.84163437 0.64714041]]\n",
      "Difference in the outcome:  [[-0.68146186]\n",
      " [ 0.31853814]\n",
      " [ 0.18765397]\n",
      " [ 0.18765397]]\n",
      "Final weights:  [[ 0.61664609  1.81254416]\n",
      " [ 0.68205038 -0.41991219]]\n"
     ]
    }
   ],
   "source": [
    "import numpy as np\n",
    "#activation funcion\n",
    "def sigmoid(x):\n",
    "    return 1.0/(1+ np.exp(-x))\n",
    "\n",
    "def sigmoid_derivative(x):\n",
    "    return x * (1.0 - x)\n",
    "\n",
    "#class of your neural network\n",
    "class NeuralNetwork:\n",
    "    \n",
    "    #set the features of your neural network\n",
    "    def __init__(self, x, y):\n",
    "        #set the training input\n",
    "        self.input      = x\n",
    "        #randomly assign the weights for the different layers\n",
    "        self.weights1   = np.random.rand(self.input.shape[1],2) \n",
    "        self.weights2   = np.random.rand(2,1) \n",
    "        #set the output for the training input set\n",
    "        self.y          = y\n",
    "        #add zeros as initial output\n",
    "        self.output     = np.zeros(self.y.shape)\n",
    "    #feedforward function \n",
    "    def feedforward(self):\n",
    "         #do the calculation for the input value of neurons in the hidden layer\n",
    "        hidden_node1 = sigmoid(self.input[0]*self.weights1[0][0]+self.input[1]*self.weights1[0][1])\n",
    "        hidden_node2 = sigmoid(self.input[0]*self.weights1[1][0]+self.input[1]*self.weights1[1][1])\n",
    "        #calculate the value of the hidden layer and the output of your network\n",
    "        self.layer1 = sigmoid(np.dot(self.input, self.weights1))\n",
    "        self.output = sigmoid(np.dot(self.layer1, self.weights2))\n",
    "        return self.output\n",
    "       #backpropagate the error\n",
    "    def backprop(self):\n",
    "        # chain rule to find the derivatives of the error with respect to weights2 and weights1\n",
    "        d_weights2 = np.dot(self.layer1.T, ((self.y - self.output) * sigmoid_derivative(self.output)))\n",
    "        d_weights1 = np.dot(self.input.T,  (np.dot((self.y - self.output) * sigmoid_derivative(self.output), self.weights2.T) * sigmoid_derivative(self.layer1)))\n",
    "        # update the weights with the derivative of the error function\n",
    "        self.weights1 += d_weights1\n",
    "        self.weights2 += d_weights2\n",
    "        \n",
    "#test what you have done \n",
    "if __name__ == \"__main__\":\n",
    "    \n",
    "    X = np.array([[0,1],\n",
    "                  [0,1],\n",
    "                  [1,1],\n",
    "                  [1,1]])\n",
    "    y =  np.array([[0],[1],[1],[1]])\n",
    "    nn = NeuralNetwork(X,y)\n",
    "    print('Initial weights: ', nn.weights1)\n",
    "\n",
    "    for i in range(100):\n",
    "        nn.feedforward()\n",
    "        nn.backprop()\n",
    "    print('Difference in the outcome: ', nn.y - nn.output)\n",
    "    print('Final weights: ', nn.weights1)"
   ]
  },
  {
   "cell_type": "markdown",
   "metadata": {},
   "source": [
    "## Multi-Layer Network\n",
    "\n",
    "Use the MLPClassifier from scikit learn to construct some neural networks that perform very basic tasks. Make sure that your training actually converges."
   ]
  },
  {
   "cell_type": "markdown",
   "metadata": {},
   "source": [
    "### OR Function\n",
    "Create an MLP classifier for the OR-Function."
   ]
  },
  {
   "cell_type": "code",
   "execution_count": 21,
   "metadata": {},
   "outputs": [
    {
     "name": "stdout",
     "output_type": "stream",
     "text": [
      "[1]\n"
     ]
    }
   ],
   "source": [
    "from sklearn.neural_network import MLPClassifier\n",
    "import sklearn.metrics as metric\n",
    "import numpy as np\n",
    "\n",
    "#insert here the training data you need for input and output\n",
    "X_training=[[0,0],[1,0],[0,1],[1,1]]\n",
    "y_training=[0,1,1,1]\n",
    "#create the corresponding net with the MLP classifier\n",
    "mynet = MLPClassifier(hidden_layer_sizes=(2,),max_iter = 5000)\n",
    "mynet.fit(X_training,y_training)\n",
    "# What is the output of your classifier for [1,1]?\n",
    "print(mynet.predict([[1,1]]))"
   ]
  },
  {
   "cell_type": "markdown",
   "metadata": {},
   "source": [
    "### Bipolar OR\n",
    "\n",
    "Instead of {0, 1}, we can also change the value into bipolar {-1, +1}. Try again to create a perceptron using the MLP Classifier for the OR-function with the bipolar output."
   ]
  },
  {
   "cell_type": "code",
   "execution_count": 22,
   "metadata": {},
   "outputs": [
    {
     "name": "stdout",
     "output_type": "stream",
     "text": [
      "[1]\n"
     ]
    }
   ],
   "source": [
    "from sklearn.neural_network import MLPClassifier\n",
    "import sklearn.metrics as metric\n",
    "import numpy as np\n",
    "\n",
    "#insert here the training data you need for input and output\n",
    "X_training=[[1, 1], \n",
    "            [1, -1],\n",
    "            [-1, 1],\n",
    "            [-1, -1]\n",
    "           ]\n",
    "y_training=[1, \n",
    "            1,\n",
    "            1,\n",
    "            -1\n",
    "           ]\n",
    "#create the corresponding net with the MLP classifier\n",
    "mynet = MLPClassifier(hidden_layer_sizes=(2,),max_iter = 5000)\n",
    "mynet.fit(X_training,y_training)\n",
    "# What is the output of your classifier for [1,1]?\n",
    "print(mynet.predict([[1,1]]))"
   ]
  },
  {
   "cell_type": "markdown",
   "metadata": {},
   "source": [
    "### XNOR \n",
    "\n",
    "Create a XNOR net with 100% accuracy for the training data."
   ]
  },
  {
   "cell_type": "code",
   "execution_count": 11,
   "metadata": {},
   "outputs": [
    {
     "name": "stdout",
     "output_type": "stream",
     "text": [
      "For hidden layer size: 1\n",
      "Accuracy: no perfect accuracy \n",
      "_______________\n",
      "For hidden layer size: 2\n",
      "Accuracy: perfect accuracy\n",
      "_______________\n"
     ]
    }
   ],
   "source": [
    "from sklearn.neural_network import MLPClassifier\n",
    "import sklearn.metrics as metric\n",
    "import numpy as np\n",
    "# the needed input\n",
    "X_training=[[1, 1], \n",
    "            [1, 0],\n",
    "            [0, 1],\n",
    "            [0, 0]\n",
    "           ]\n",
    "y_training=[1, \n",
    "            0,\n",
    "            0,\n",
    "            0\n",
    "           ]\n",
    "# set the method and test until you have accuracy 100%\n",
    "hidden = 0\n",
    "accuracy = 0\n",
    "while (accuracy != 1.0) and  (hidden < 100):\n",
    "    hidden += 1\n",
    "    mlp = MLPClassifier(hidden_layer_sizes=(hidden,),max_iter = 5000) \n",
    "    mlp.fit(X_training, y_training)                    # training\n",
    "    y_pred=mlp.predict(X_training)     # show the output\n",
    "    accuracy  = metric.accuracy_score(np.array(y_training).flatten(), np.array(y_pred).flatten(), normalize=True)\n",
    "    print(\"For hidden layer size: \"+str(hidden))\n",
    "    print('Accuracy:'+ \" no perfect accuracy \" if accuracy != 1.0 else 'Accuracy:'+ \" perfect accuracy\")\n",
    "    print(\"_______________\")"
   ]
  },
  {
   "cell_type": "code",
   "execution_count": 12,
   "metadata": {},
   "outputs": [
    {
     "name": "stdout",
     "output_type": "stream",
     "text": [
      "Accuracy= 1.0\n",
      "Number of hidden layers:  2\n",
      "[(2, 2), (2, 1)]\n",
      "2\n"
     ]
    }
   ],
   "source": [
    "print('Accuracy=',accuracy)                         # show the accuracy score\n",
    "print('Number of hidden layers: ', hidden)\n",
    "\n",
    "print([coef.shape for coef in mlp.coefs_])  # size of synapsis weights\n",
    "print(len(mlp.coefs_))                                  # synapsis weights"
   ]
  },
  {
   "cell_type": "markdown",
   "metadata": {},
   "source": [
    "## An Example of Classification with a Neural Network using scikit learn"
   ]
  },
  {
   "cell_type": "markdown",
   "metadata": {},
   "source": [
    "The data set is made of 8x8 images of digits. We start with loading the dataset."
   ]
  },
  {
   "cell_type": "code",
   "execution_count": 32,
   "metadata": {},
   "outputs": [],
   "source": [
    "import matplotlib.pyplot as plt\n",
    "\n",
    "# Import datasets, classifiers and performance metrics\n",
    "from sklearn import datasets, svm, metrics\n",
    "from sklearn.neural_network import MLPClassifier\n",
    "from sklearn import tree\n",
    "\n",
    "# The digits dataset\n",
    "digits = datasets.load_digits()"
   ]
  },
  {
   "cell_type": "markdown",
   "metadata": {},
   "source": [
    "Now, let's have a look at some of the first images, stored in the images attribute of the dataset.\n",
    "-  If we were working from image files, we could load them using matplotlib.pyplot.imread. Note that each image must have the same size. \n",
    "-  For these images, we know which digit they represent: it is given in the 'target' of the dataset.\n"
   ]
  },
  {
   "cell_type": "code",
   "execution_count": 33,
   "metadata": {},
   "outputs": [
    {
     "data": {
      "image/png": "[encoded data removed]",
      "text/plain": [
       "<Figure size 432x288 with 20 Axes>"
      ]
     },
     "metadata": {
      "needs_background": "light"
     },
     "output_type": "display_data"
    }
   ],
   "source": [
    "images_and_labels = list(zip(digits.images, digits.target))\n",
    "for index, (image, label) in enumerate(images_and_labels[:20]):\n",
    "    plt.subplot(4, 5, index + 1)\n",
    "    plt.axis('off')\n",
    "    plt.imshow(image,cmap=plt.cm.gray_r)\n",
    "    plt.title('Training: %i' % label)\n",
    "plt.show()"
   ]
  },
  {
   "cell_type": "code",
   "execution_count": 34,
   "metadata": {},
   "outputs": [],
   "source": [
    "# To apply a classifier on this data, we need to flatten the image, to\n",
    "# turn the data in a (samples, feature) matrix:\n",
    "n_samples = len(digits.images)\n",
    "data = digits.images.reshape((n_samples, -1))"
   ]
  },
  {
   "cell_type": "markdown",
   "metadata": {},
   "source": [
    "Next, let's see what our classification algorithms does:"
   ]
  },
  {
   "cell_type": "code",
   "execution_count": 35,
   "metadata": {},
   "outputs": [],
   "source": [
    "# Create a classifier: \n",
    "\n",
    "classifier = MLPClassifier(hidden_layer_sizes=(100,))\n",
    "\n",
    "# We learn the digits on the first half of the digits\n",
    "classifier.fit(data[:9*(n_samples) // 10], digits.target[:9*(n_samples) // 10])\n",
    "\n",
    "# Now predict the value of the digit on the second half:\n",
    "expected = digits.target[9*(n_samples) // 10:]\n",
    "predicted = classifier.predict(data[9*(n_samples) // 10:])\n"
   ]
  },
  {
   "cell_type": "markdown",
   "metadata": {},
   "source": [
    "Lets show the predictions:"
   ]
  },
  {
   "cell_type": "code",
   "execution_count": 36,
   "metadata": {},
   "outputs": [
    {
     "data": {
      "image/png": "[encoded data removed]",
      "text/plain": [
       "<Figure size 432x288 with 10 Axes>"
      ]
     },
     "metadata": {
      "needs_background": "light"
     },
     "output_type": "display_data"
    }
   ],
   "source": [
    "images_and_predictions = list(zip(digits.images[9*(n_samples) // 10:], predicted))\n",
    "for index, (image, prediction) in enumerate(images_and_predictions[:10]):\n",
    "    plt.subplot(3, 4, index+1)\n",
    "    plt.axis('off')\n",
    "    plt.imshow(image, cmap=plt.cm.gray_r)\n",
    "    plt.title('Prediction: %i' % prediction)\n",
    "\n",
    "plt.show()"
   ]
  },
  {
   "cell_type": "markdown",
   "metadata": {},
   "source": [
    "Evaluation metrics can be used to compare your classifications:"
   ]
  },
  {
   "cell_type": "code",
   "execution_count": 37,
   "metadata": {},
   "outputs": [
    {
     "name": "stdout",
     "output_type": "stream",
     "text": [
      "Classification report for classifier MLPClassifier():\n",
      "              precision    recall  f1-score   support\n",
      "\n",
      "           0       1.00      1.00      1.00        16\n",
      "           1       0.95      1.00      0.97        19\n",
      "           2       1.00      1.00      1.00        17\n",
      "           3       1.00      0.78      0.88        18\n",
      "           4       1.00      0.95      0.97        20\n",
      "           5       0.95      1.00      0.97        18\n",
      "           6       1.00      1.00      1.00        18\n",
      "           7       1.00      1.00      1.00        19\n",
      "           8       0.76      0.94      0.84        17\n",
      "           9       0.94      0.89      0.91        18\n",
      "\n",
      "    accuracy                           0.96       180\n",
      "   macro avg       0.96      0.96      0.96       180\n",
      "weighted avg       0.96      0.96      0.96       180\n",
      "\n",
      "\n",
      "Confusion matrix:\n",
      "[[16  0  0  0  0  0  0  0  0  0]\n",
      " [ 0 19  0  0  0  0  0  0  0  0]\n",
      " [ 0  0 17  0  0  0  0  0  0  0]\n",
      " [ 0  0  0 14  0  0  0  0  4  0]\n",
      " [ 0  0  0  0 19  0  0  0  0  1]\n",
      " [ 0  0  0  0  0 18  0  0  0  0]\n",
      " [ 0  0  0  0  0  0 18  0  0  0]\n",
      " [ 0  0  0  0  0  0  0 19  0  0]\n",
      " [ 0  1  0  0  0  0  0  0 16  0]\n",
      " [ 0  0  0  0  0  1  0  0  1 16]]\n"
     ]
    }
   ],
   "source": [
    "print(\"Classification report for classifier %s:\\n%s\\n\"\n",
    "      % (classifier, metrics.classification_report(expected, predicted)))\n",
    "print(\"Confusion matrix:\\n%s\" % metrics.confusion_matrix(expected, predicted))"
   ]
  },
  {
   "cell_type": "code",
   "execution_count": null,
   "metadata": {},
   "outputs": [],
   "source": []
  }
 ],
 "metadata": {
  "kernelspec": {
   "display_name": "Python 3 (ipykernel)",
   "language": "python",
   "name": "python3"
  },
  "language_info": {
   "codemirror_mode": {
    "name": "ipython",
    "version": 3
   },
   "file_extension": ".py",
   "mimetype": "text/x-python",
   "name": "python",
   "nbconvert_exporter": "python",
   "pygments_lexer": "ipython3",
   "version": "3.8.11"
  }
 },
 "nbformat": 4,
 "nbformat_minor": 2
}
